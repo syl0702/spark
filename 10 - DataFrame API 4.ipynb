{
 "cells": [
  {
   "cell_type": "code",
   "execution_count": 1,
   "id": "e3f5e189",
   "metadata": {},
   "outputs": [
    {
     "name": "stderr",
     "output_type": "stream",
     "text": [
      "Using Spark's default log4j profile: org/apache/spark/log4j-defaults.properties\n",
      "Setting default log level to \"WARN\".\n",
      "To adjust logging level use sc.setLogLevel(newLevel). For SparkR, use setLogLevel(newLevel).\n",
      "23/11/17 09:02:53 WARN NativeCodeLoader: Unable to load native-hadoop library for your platform... using builtin-java classes where applicable\n"
     ]
    },
    {
     "data": {
      "text/html": [
       "\n",
       "            <div>\n",
       "                <p><b>SparkSession - in-memory</b></p>\n",
       "                \n",
       "        <div>\n",
       "            <p><b>SparkContext</b></p>\n",
       "\n",
       "            <p><a href=\"http://0.0.0.0:4040\">Spark UI</a></p>\n",
       "\n",
       "            <dl>\n",
       "              <dt>Version</dt>\n",
       "                <dd><code>v3.2.4</code></dd>\n",
       "              <dt>Master</dt>\n",
       "                <dd><code>local</code></dd>\n",
       "              <dt>AppName</dt>\n",
       "                <dd><code>spark-dataframe</code></dd>\n",
       "            </dl>\n",
       "        </div>\n",
       "        \n",
       "            </div>\n",
       "        "
      ],
      "text/plain": [
       "<pyspark.sql.session.SparkSession at 0x7f2a2335fa00>"
      ]
     },
     "execution_count": 1,
     "metadata": {},
     "output_type": "execute_result"
    }
   ],
   "source": [
    "from pyspark.sql import SparkSession\n",
    "\n",
    "spark = SparkSession.builder.master(\"local\").appName(\"spark-dataframe\").getOrCreate()\n",
    "spark"
   ]
  },
  {
   "cell_type": "code",
   "execution_count": 2,
   "id": "195cc6b5",
   "metadata": {},
   "outputs": [
    {
     "name": "stderr",
     "output_type": "stream",
     "text": [
      "                                                                                \r"
     ]
    },
    {
     "data": {
      "text/plain": [
       "[('PassengerId', 'int'),\n",
       " ('Survived', 'int'),\n",
       " ('Pclass', 'int'),\n",
       " ('Name', 'string'),\n",
       " ('Sex', 'string'),\n",
       " ('Age', 'double'),\n",
       " ('SibSp', 'int'),\n",
       " ('Parch', 'int'),\n",
       " ('Ticket', 'string'),\n",
       " ('Fare', 'double'),\n",
       " ('Cabin', 'string'),\n",
       " ('Embarked', 'string')]"
      ]
     },
     "execution_count": 2,
     "metadata": {},
     "output_type": "execute_result"
    }
   ],
   "source": [
    "filepath = \"/home/ubuntu/working/spark-examples/data/titanic_train.csv\"\n",
    "\n",
    "# inferSchema 사용\n",
    "titanic_sdf = spark.read.csv(filepath, inferSchema=True, header=True)\n",
    "titanic_sdf.dtypes"
   ]
  },
  {
   "cell_type": "code",
   "execution_count": 3,
   "id": "9502dd6d",
   "metadata": {},
   "outputs": [
    {
     "data": {
      "text/html": [
       "<div>\n",
       "<style scoped>\n",
       "    .dataframe tbody tr th:only-of-type {\n",
       "        vertical-align: middle;\n",
       "    }\n",
       "\n",
       "    .dataframe tbody tr th {\n",
       "        vertical-align: top;\n",
       "    }\n",
       "\n",
       "    .dataframe thead th {\n",
       "        text-align: right;\n",
       "    }\n",
       "</style>\n",
       "<table border=\"1\" class=\"dataframe\">\n",
       "  <thead>\n",
       "    <tr style=\"text-align: right;\">\n",
       "      <th></th>\n",
       "      <th>PassengerId</th>\n",
       "      <th>Survived</th>\n",
       "      <th>Pclass</th>\n",
       "      <th>Name</th>\n",
       "      <th>Sex</th>\n",
       "      <th>Age</th>\n",
       "      <th>SibSp</th>\n",
       "      <th>Parch</th>\n",
       "      <th>Ticket</th>\n",
       "      <th>Fare</th>\n",
       "      <th>Cabin</th>\n",
       "      <th>Embarked</th>\n",
       "    </tr>\n",
       "  </thead>\n",
       "  <tbody>\n",
       "    <tr>\n",
       "      <th>0</th>\n",
       "      <td>1</td>\n",
       "      <td>0</td>\n",
       "      <td>3</td>\n",
       "      <td>Braund, Mr. Owen Harris</td>\n",
       "      <td>male</td>\n",
       "      <td>22.0</td>\n",
       "      <td>1</td>\n",
       "      <td>0</td>\n",
       "      <td>A/5 21171</td>\n",
       "      <td>7.2500</td>\n",
       "      <td>None</td>\n",
       "      <td>S</td>\n",
       "    </tr>\n",
       "    <tr>\n",
       "      <th>1</th>\n",
       "      <td>2</td>\n",
       "      <td>1</td>\n",
       "      <td>1</td>\n",
       "      <td>Cumings, Mrs. John Bradley (Florence Briggs Th...</td>\n",
       "      <td>female</td>\n",
       "      <td>38.0</td>\n",
       "      <td>1</td>\n",
       "      <td>0</td>\n",
       "      <td>PC 17599</td>\n",
       "      <td>71.2833</td>\n",
       "      <td>C85</td>\n",
       "      <td>C</td>\n",
       "    </tr>\n",
       "    <tr>\n",
       "      <th>2</th>\n",
       "      <td>3</td>\n",
       "      <td>1</td>\n",
       "      <td>3</td>\n",
       "      <td>Heikkinen, Miss. Laina</td>\n",
       "      <td>female</td>\n",
       "      <td>26.0</td>\n",
       "      <td>0</td>\n",
       "      <td>0</td>\n",
       "      <td>STON/O2. 3101282</td>\n",
       "      <td>7.9250</td>\n",
       "      <td>None</td>\n",
       "      <td>S</td>\n",
       "    </tr>\n",
       "    <tr>\n",
       "      <th>3</th>\n",
       "      <td>4</td>\n",
       "      <td>1</td>\n",
       "      <td>1</td>\n",
       "      <td>Futrelle, Mrs. Jacques Heath (Lily May Peel)</td>\n",
       "      <td>female</td>\n",
       "      <td>35.0</td>\n",
       "      <td>1</td>\n",
       "      <td>0</td>\n",
       "      <td>113803</td>\n",
       "      <td>53.1000</td>\n",
       "      <td>C123</td>\n",
       "      <td>S</td>\n",
       "    </tr>\n",
       "    <tr>\n",
       "      <th>4</th>\n",
       "      <td>5</td>\n",
       "      <td>0</td>\n",
       "      <td>3</td>\n",
       "      <td>Allen, Mr. William Henry</td>\n",
       "      <td>male</td>\n",
       "      <td>35.0</td>\n",
       "      <td>0</td>\n",
       "      <td>0</td>\n",
       "      <td>373450</td>\n",
       "      <td>8.0500</td>\n",
       "      <td>None</td>\n",
       "      <td>S</td>\n",
       "    </tr>\n",
       "  </tbody>\n",
       "</table>\n",
       "</div>"
      ],
      "text/plain": [
       "   PassengerId  Survived  Pclass  \\\n",
       "0            1         0       3   \n",
       "1            2         1       1   \n",
       "2            3         1       3   \n",
       "3            4         1       1   \n",
       "4            5         0       3   \n",
       "\n",
       "                                                Name     Sex   Age  SibSp  \\\n",
       "0                            Braund, Mr. Owen Harris    male  22.0      1   \n",
       "1  Cumings, Mrs. John Bradley (Florence Briggs Th...  female  38.0      1   \n",
       "2                             Heikkinen, Miss. Laina  female  26.0      0   \n",
       "3       Futrelle, Mrs. Jacques Heath (Lily May Peel)  female  35.0      1   \n",
       "4                           Allen, Mr. William Henry    male  35.0      0   \n",
       "\n",
       "   Parch            Ticket     Fare Cabin Embarked  \n",
       "0      0         A/5 21171   7.2500  None        S  \n",
       "1      0          PC 17599  71.2833   C85        C  \n",
       "2      0  STON/O2. 3101282   7.9250  None        S  \n",
       "3      0            113803  53.1000  C123        S  \n",
       "4      0            373450   8.0500  None        S  "
      ]
     },
     "execution_count": 3,
     "metadata": {},
     "output_type": "execute_result"
    }
   ],
   "source": [
    "titanic_pdf = titanic_sdf.toPandas()\n",
    "titanic_pdf.head()"
   ]
  },
  {
   "cell_type": "markdown",
   "id": "f04aa8a8",
   "metadata": {},
   "source": [
    "# Spark Dataframe의 컬럼, 로우(레코드) 삭제\n",
    "- pandas의 데이터프레임은 `drop` 메소드를 사용. 행과 열 모두 삭제.\n",
    "- spark 데이터프레임에도 `drop` 메소드를 사용. 컬럼만 삭제 가능.\n",
    "    - 여러 개의 컬럼을 삭제 할 때 리스트 사용 불가\n",
    "- spark에서는 데이터(row)의 삭제가 원칙적으로 불가능.\n",
    "    - 데이터 삭제가 없는 대신에 `filter`를 이용해서 필요한 것만 추출. --> spark의 불변성 특성 때문"
   ]
  },
  {
   "cell_type": "code",
   "execution_count": 4,
   "id": "febc29a2",
   "metadata": {},
   "outputs": [
    {
     "name": "stdout",
     "output_type": "stream",
     "text": [
      "<class 'pandas.core.frame.DataFrame'>\n",
      "RangeIndex: 891 entries, 0 to 890\n",
      "Data columns (total 11 columns):\n",
      " #   Column       Non-Null Count  Dtype  \n",
      "---  ------       --------------  -----  \n",
      " 0   PassengerId  891 non-null    int32  \n",
      " 1   Survived     891 non-null    int32  \n",
      " 2   Pclass       891 non-null    int32  \n",
      " 3   Sex          891 non-null    object \n",
      " 4   Age          714 non-null    float64\n",
      " 5   SibSp        891 non-null    int32  \n",
      " 6   Parch        891 non-null    int32  \n",
      " 7   Ticket       891 non-null    object \n",
      " 8   Fare         891 non-null    float64\n",
      " 9   Cabin        204 non-null    object \n",
      " 10  Embarked     889 non-null    object \n",
      "dtypes: float64(2), int32(5), object(4)\n",
      "memory usage: 59.3+ KB\n"
     ]
    }
   ],
   "source": [
    "titanic_pdf_drop = titanic_pdf.drop(\"Name\", axis=1)\n",
    "titanic_pdf_drop.info()"
   ]
  },
  {
   "cell_type": "code",
   "execution_count": 5,
   "id": "f1837908",
   "metadata": {},
   "outputs": [
    {
     "name": "stdout",
     "output_type": "stream",
     "text": [
      "root\n",
      " |-- PassengerId: integer (nullable = true)\n",
      " |-- Survived: integer (nullable = true)\n",
      " |-- Pclass: integer (nullable = true)\n",
      " |-- Sex: string (nullable = true)\n",
      " |-- Age: double (nullable = true)\n",
      " |-- SibSp: integer (nullable = true)\n",
      " |-- Parch: integer (nullable = true)\n",
      " |-- Ticket: string (nullable = true)\n",
      " |-- Fare: double (nullable = true)\n",
      " |-- Cabin: string (nullable = true)\n",
      " |-- Embarked: string (nullable = true)\n",
      "\n"
     ]
    }
   ],
   "source": [
    "import pyspark.sql.functions as F\n",
    "\n",
    "# drop을 사용한다고 해서 실제 삭제가 이루어지진 않는다.\n",
    "# DROP으로 지정된 컬럼을 제외하고 select 한 것!\n",
    "titanic_sdf_drop = titanic_sdf.drop(F.col(\"Name\"))\n",
    "titanic_sdf_drop.printSchema()"
   ]
  },
  {
   "cell_type": "code",
   "execution_count": 7,
   "id": "94ec5466",
   "metadata": {},
   "outputs": [
    {
     "name": "stdout",
     "output_type": "stream",
     "text": [
      "+-----------+--------+------+--------------------+------+----+-----+-----+----------------+-------+-----+--------+\n",
      "|PassengerId|Survived|Pclass|                Name|   Sex| Age|SibSp|Parch|          Ticket|   Fare|Cabin|Embarked|\n",
      "+-----------+--------+------+--------------------+------+----+-----+-----+----------------+-------+-----+--------+\n",
      "|          1|       0|     3|Braund, Mr. Owen ...|  male|22.0|    1|    0|       A/5 21171|   7.25| null|       S|\n",
      "|          2|       1|     1|Cumings, Mrs. Joh...|female|38.0|    1|    0|        PC 17599|71.2833|  C85|       C|\n",
      "|          3|       1|     3|Heikkinen, Miss. ...|female|26.0|    0|    0|STON/O2. 3101282|  7.925| null|       S|\n",
      "|          4|       1|     1|Futrelle, Mrs. Ja...|female|35.0|    1|    0|          113803|   53.1| C123|       S|\n",
      "|          5|       0|     3|Allen, Mr. Willia...|  male|35.0|    0|    0|          373450|   8.05| null|       S|\n",
      "+-----------+--------+------+--------------------+------+----+-----+-----+----------------+-------+-----+--------+\n",
      "only showing top 5 rows\n",
      "\n"
     ]
    }
   ],
   "source": [
    "# Pclass가 1인 row를 제거 (sdf)\n",
    "titanic_removed_pclass_1 = titanic_sdf.drop(F.col(\"Pclass\") != 1)\n",
    "titanic_removed_pclass_1.show(5)"
   ]
  },
  {
   "cell_type": "markdown",
   "id": "61d385a3",
   "metadata": {},
   "source": [
    "# Spark DataFrame의 dropna"
   ]
  },
  {
   "cell_type": "code",
   "execution_count": 9,
   "id": "3c12e802",
   "metadata": {},
   "outputs": [
    {
     "name": "stdout",
     "output_type": "stream",
     "text": [
      "Dropna 이전의 행의 개수 :  891\n",
      "Dropna 이후의 행의 개수 :  183\n"
     ]
    }
   ],
   "source": [
    "# 레코드에 하나라도 Null 또는 NaN값이 있으면 삭제한 결과의 DataFrmae이 반환된다.\n",
    "print(\"Dropna 이전의 행의 개수 : \", titanic_sdf.count())\n",
    "\n",
    "titanic_sdf_dropna_1 = titanic_sdf.dropna()\n",
    "print(\"Dropna 이후의 행의 개수 : \", titanic_sdf_dropna_1.count())"
   ]
  },
  {
   "cell_type": "markdown",
   "id": "15ad44d1",
   "metadata": {},
   "source": [
    "`dropna`를 쿼리로 표현하면?\n",
    "```SQL\n",
    "SELECT *\n",
    "FROM titanic_sdf\n",
    "WHERE Name IS NOT NULL\n",
    "AND age IS NOT NULL\n",
    "AND Embarked IS NOT NULL\n",
    "...\n",
    "```"
   ]
  },
  {
   "cell_type": "code",
   "execution_count": 10,
   "id": "a599b953",
   "metadata": {},
   "outputs": [
    {
     "data": {
      "text/plain": [
       "712"
      ]
     },
     "execution_count": 10,
     "metadata": {},
     "output_type": "execute_result"
    }
   ],
   "source": [
    "# 특정 컬럼을 지정하여 거기에 null이 있는 경우만 삭제\n",
    "titanic_sdf_dropna_2 = titanic_sdf.dropna(subset=[\"Age\", \"Embarked\"])\n",
    "titanic_sdf_dropna_2.count()"
   ]
  },
  {
   "cell_type": "markdown",
   "id": "84bb4f75",
   "metadata": {},
   "source": [
    "`dropna(subset=[\"Age\", \"Embarked\"])`를 쿼리로 표현하면?\n",
    "```SQL\n",
    "SELECT *\n",
    "FROM titanic_sdf\n",
    "WHERE age IS NOT NULL\n",
    "AND Embarked IS NOT NULL\n",
    "```"
   ]
  },
  {
   "cell_type": "code",
   "execution_count": 12,
   "id": "1ceb0acd",
   "metadata": {},
   "outputs": [
    {
     "data": {
      "text/plain": [
       "712"
      ]
     },
     "execution_count": 12,
     "metadata": {},
     "output_type": "execute_result"
    }
   ],
   "source": [
    "# filter를 이용하여 null 제거\n",
    "titanic_sdf.filter(\n",
    "    F.col(\"Age\").isNotNull() & F.col(\"Embarked\").isNotNull()\n",
    ").count()"
   ]
  },
  {
   "cell_type": "code",
   "execution_count": 13,
   "id": "63a1d4ec",
   "metadata": {},
   "outputs": [
    {
     "data": {
      "text/plain": [
       "183"
      ]
     },
     "execution_count": 13,
     "metadata": {},
     "output_type": "execute_result"
    }
   ],
   "source": [
    "titanic_sdf.na.drop().count()"
   ]
  },
  {
   "cell_type": "code",
   "execution_count": 20,
   "id": "be147730",
   "metadata": {},
   "outputs": [
    {
     "name": "stdout",
     "output_type": "stream",
     "text": [
      "PassengerId IS NOT NULL and Survived IS NOT NULL and Pclass IS NOT NULL and Name IS NOT NULL and Sex IS NOT NULL and Age IS NOT NULL and SibSp IS NOT NULL and Parch IS NOT NULL and Ticket IS NOT NULL and Fare IS NOT NULL and Cabin IS NOT NULL and Embarked IS NOT NULL \n"
     ]
    }
   ],
   "source": [
    "# dropna() 메소드를 WHERE 절 로직으로 구현.\n",
    "where_str = ''\n",
    "column_count = len(titanic_sdf.columns)\n",
    "for index, column_name in enumerate(titanic_sdf.columns):\n",
    "    where_str += (column_name + ' IS NOT NULL ')\n",
    "    if index < column_count -1:\n",
    "        where_str += 'and '\n",
    "print(where_str)"
   ]
  },
  {
   "cell_type": "code",
   "execution_count": 21,
   "id": "f1a0477a",
   "metadata": {},
   "outputs": [
    {
     "data": {
      "text/plain": [
       "183"
      ]
     },
     "execution_count": 21,
     "metadata": {},
     "output_type": "execute_result"
    }
   ],
   "source": [
    "titanic_sdf.filter(where_str).count()"
   ]
  },
  {
   "cell_type": "markdown",
   "id": "dd910cf0",
   "metadata": {},
   "source": [
    "# Pandas와 Spark에서의 None, Nan, Null"
   ]
  },
  {
   "cell_type": "code",
   "execution_count": 16,
   "id": "388ec162",
   "metadata": {},
   "outputs": [
    {
     "name": "stdout",
     "output_type": "stream",
     "text": [
      "<class 'NoneType'>\n"
     ]
    }
   ],
   "source": [
    "a = None\n",
    "print(type(a))"
   ]
  },
  {
   "cell_type": "code",
   "execution_count": 17,
   "id": "9890cfe3",
   "metadata": {},
   "outputs": [
    {
     "name": "stdout",
     "output_type": "stream",
     "text": [
      "+----+-----+\n",
      "| Age|Cabin|\n",
      "+----+-----+\n",
      "|22.0| null|\n",
      "|38.0|  C85|\n",
      "|26.0| null|\n",
      "|35.0| C123|\n",
      "|35.0| null|\n",
      "|null| null|\n",
      "|54.0|  E46|\n",
      "| 2.0| null|\n",
      "|27.0| null|\n",
      "|14.0| null|\n",
      "+----+-----+\n",
      "only showing top 10 rows\n",
      "\n"
     ]
    }
   ],
   "source": [
    "titanic_sdf.select(\"Age\", \"Cabin\").show(10)"
   ]
  },
  {
   "cell_type": "code",
   "execution_count": 18,
   "id": "66147086",
   "metadata": {},
   "outputs": [
    {
     "data": {
      "text/html": [
       "<div>\n",
       "<style scoped>\n",
       "    .dataframe tbody tr th:only-of-type {\n",
       "        vertical-align: middle;\n",
       "    }\n",
       "\n",
       "    .dataframe tbody tr th {\n",
       "        vertical-align: top;\n",
       "    }\n",
       "\n",
       "    .dataframe thead th {\n",
       "        text-align: right;\n",
       "    }\n",
       "</style>\n",
       "<table border=\"1\" class=\"dataframe\">\n",
       "  <thead>\n",
       "    <tr style=\"text-align: right;\">\n",
       "      <th></th>\n",
       "      <th>Age</th>\n",
       "      <th>Cabin</th>\n",
       "    </tr>\n",
       "  </thead>\n",
       "  <tbody>\n",
       "    <tr>\n",
       "      <th>0</th>\n",
       "      <td>22.0</td>\n",
       "      <td>None</td>\n",
       "    </tr>\n",
       "    <tr>\n",
       "      <th>1</th>\n",
       "      <td>38.0</td>\n",
       "      <td>C85</td>\n",
       "    </tr>\n",
       "    <tr>\n",
       "      <th>2</th>\n",
       "      <td>26.0</td>\n",
       "      <td>None</td>\n",
       "    </tr>\n",
       "    <tr>\n",
       "      <th>3</th>\n",
       "      <td>35.0</td>\n",
       "      <td>C123</td>\n",
       "    </tr>\n",
       "    <tr>\n",
       "      <th>4</th>\n",
       "      <td>35.0</td>\n",
       "      <td>None</td>\n",
       "    </tr>\n",
       "    <tr>\n",
       "      <th>5</th>\n",
       "      <td>NaN</td>\n",
       "      <td>None</td>\n",
       "    </tr>\n",
       "    <tr>\n",
       "      <th>6</th>\n",
       "      <td>54.0</td>\n",
       "      <td>E46</td>\n",
       "    </tr>\n",
       "    <tr>\n",
       "      <th>7</th>\n",
       "      <td>2.0</td>\n",
       "      <td>None</td>\n",
       "    </tr>\n",
       "    <tr>\n",
       "      <th>8</th>\n",
       "      <td>27.0</td>\n",
       "      <td>None</td>\n",
       "    </tr>\n",
       "    <tr>\n",
       "      <th>9</th>\n",
       "      <td>14.0</td>\n",
       "      <td>None</td>\n",
       "    </tr>\n",
       "  </tbody>\n",
       "</table>\n",
       "</div>"
      ],
      "text/plain": [
       "    Age Cabin\n",
       "0  22.0  None\n",
       "1  38.0   C85\n",
       "2  26.0  None\n",
       "3  35.0  C123\n",
       "4  35.0  None\n",
       "5   NaN  None\n",
       "6  54.0   E46\n",
       "7   2.0  None\n",
       "8  27.0  None\n",
       "9  14.0  None"
      ]
     },
     "execution_count": 18,
     "metadata": {},
     "output_type": "execute_result"
    }
   ],
   "source": [
    "titanic_pdf[[\"Age\", \"Cabin\"]].head(10)"
   ]
  },
  {
   "cell_type": "code",
   "execution_count": 19,
   "id": "a4bae676",
   "metadata": {},
   "outputs": [
    {
     "name": "stdout",
     "output_type": "stream",
     "text": [
      "+----+-----+\n",
      "| Age|Cabin|\n",
      "+----+-----+\n",
      "|22.0| null|\n",
      "|38.0|  C85|\n",
      "|26.0| null|\n",
      "|35.0| C123|\n",
      "|35.0| null|\n",
      "| NaN| null|\n",
      "|54.0|  E46|\n",
      "| 2.0| null|\n",
      "|27.0| null|\n",
      "|14.0| null|\n",
      "+----+-----+\n",
      "only showing top 10 rows\n",
      "\n"
     ]
    },
    {
     "name": "stderr",
     "output_type": "stream",
     "text": [
      "\r",
      "[Stage 26:>                                                         (0 + 1) / 1]\r",
      "\r",
      "                                                                                \r"
     ]
    }
   ],
   "source": [
    "titanic_sdf_from_pdf = spark.createDataFrame(titanic_pdf)\n",
    "titanic_sdf_from_pdf.select(\"Age\", \"Cabin\").show(10)"
   ]
  },
  {
   "cell_type": "markdown",
   "id": "13b6e96c",
   "metadata": {},
   "source": [
    "NaN값 검색"
   ]
  },
  {
   "cell_type": "code",
   "execution_count": 22,
   "id": "93fe7322",
   "metadata": {},
   "outputs": [
    {
     "name": "stdout",
     "output_type": "stream",
     "text": [
      "+--------------------+----+\n",
      "|                Name| Age|\n",
      "+--------------------+----+\n",
      "|    Moran, Mr. James|null|\n",
      "|Williams, Mr. Cha...|null|\n",
      "|Masselmani, Mrs. ...|null|\n",
      "|Emir, Mr. Farred ...|null|\n",
      "|\"O'Dwyer, Miss. E...|null|\n",
      "| Todoroff, Mr. Lalio|null|\n",
      "|Spencer, Mrs. Wil...|null|\n",
      "|Glynn, Miss. Mary...|null|\n",
      "|    Mamee, Mr. Hanna|null|\n",
      "| Kraeff, Mr. Theodor|null|\n",
      "+--------------------+----+\n",
      "only showing top 10 rows\n",
      "\n"
     ]
    }
   ],
   "source": [
    "titanic_sdf.filter(F.col(\"Age\").isNull()).select(\"Name\", \"Age\").show(10)"
   ]
  },
  {
   "cell_type": "code",
   "execution_count": 23,
   "id": "461abd79",
   "metadata": {},
   "outputs": [
    {
     "name": "stdout",
     "output_type": "stream",
     "text": [
      "+----+---+\n",
      "|Name|Age|\n",
      "+----+---+\n",
      "+----+---+\n",
      "\n"
     ]
    }
   ],
   "source": [
    "titanic_sdf_from_pdf.filter(F.col(\"Age\").isNull()).select(\"Name\", \"Age\").show(10)"
   ]
  },
  {
   "cell_type": "code",
   "execution_count": 25,
   "id": "be3cbca2",
   "metadata": {},
   "outputs": [
    {
     "name": "stdout",
     "output_type": "stream",
     "text": [
      "+--------------------+---+\n",
      "|                Name|Age|\n",
      "+--------------------+---+\n",
      "|    Moran, Mr. James|NaN|\n",
      "|Williams, Mr. Cha...|NaN|\n",
      "|Masselmani, Mrs. ...|NaN|\n",
      "|Emir, Mr. Farred ...|NaN|\n",
      "|\"O'Dwyer, Miss. E...|NaN|\n",
      "| Todoroff, Mr. Lalio|NaN|\n",
      "|Spencer, Mrs. Wil...|NaN|\n",
      "|Glynn, Miss. Mary...|NaN|\n",
      "|    Mamee, Mr. Hanna|NaN|\n",
      "| Kraeff, Mr. Theodor|NaN|\n",
      "+--------------------+---+\n",
      "only showing top 10 rows\n",
      "\n"
     ]
    }
   ],
   "source": [
    "titanic_sdf_from_pdf.filter(F.isnan(F.col(\"Age\"))).select(\"Name\", \"Age\").show(10)"
   ]
  },
  {
   "cell_type": "markdown",
   "id": "fca7f576",
   "metadata": {},
   "source": [
    "# Null 컬럼명과 Null 개수 찾기"
   ]
  },
  {
   "cell_type": "code",
   "execution_count": 28,
   "id": "7ea61e70",
   "metadata": {},
   "outputs": [
    {
     "data": {
      "text/plain": [
       "[Column<'(PassengerId IS NULL)'>,\n",
       " Column<'(Survived IS NULL)'>,\n",
       " Column<'(Pclass IS NULL)'>,\n",
       " Column<'(Name IS NULL)'>,\n",
       " Column<'(Sex IS NULL)'>,\n",
       " Column<'(Age IS NULL)'>,\n",
       " Column<'(SibSp IS NULL)'>,\n",
       " Column<'(Parch IS NULL)'>,\n",
       " Column<'(Ticket IS NULL)'>,\n",
       " Column<'(Fare IS NULL)'>,\n",
       " Column<'(Cabin IS NULL)'>,\n",
       " Column<'(Embarked IS NULL)'>]"
      ]
     },
     "execution_count": 28,
     "metadata": {},
     "output_type": "execute_result"
    }
   ],
   "source": [
    "null_columns = [ F.col(column_name).isNull() for column_name in titanic_sdf.columns ]\n",
    "null_columns"
   ]
  },
  {
   "cell_type": "code",
   "execution_count": 29,
   "id": "4400fe87",
   "metadata": {},
   "outputs": [
    {
     "name": "stdout",
     "output_type": "stream",
     "text": [
      "+---------------------+------------------+----------------+--------------+-------------+-------------+---------------+---------------+----------------+--------------+---------------+------------------+\n",
      "|(PassengerId IS NULL)|(Survived IS NULL)|(Pclass IS NULL)|(Name IS NULL)|(Sex IS NULL)|(Age IS NULL)|(SibSp IS NULL)|(Parch IS NULL)|(Ticket IS NULL)|(Fare IS NULL)|(Cabin IS NULL)|(Embarked IS NULL)|\n",
      "+---------------------+------------------+----------------+--------------+-------------+-------------+---------------+---------------+----------------+--------------+---------------+------------------+\n",
      "|                false|             false|           false|         false|        false|        false|          false|          false|           false|         false|           true|             false|\n",
      "|                false|             false|           false|         false|        false|        false|          false|          false|           false|         false|          false|             false|\n",
      "|                false|             false|           false|         false|        false|        false|          false|          false|           false|         false|           true|             false|\n",
      "|                false|             false|           false|         false|        false|        false|          false|          false|           false|         false|          false|             false|\n",
      "|                false|             false|           false|         false|        false|        false|          false|          false|           false|         false|           true|             false|\n",
      "|                false|             false|           false|         false|        false|         true|          false|          false|           false|         false|           true|             false|\n",
      "|                false|             false|           false|         false|        false|        false|          false|          false|           false|         false|          false|             false|\n",
      "|                false|             false|           false|         false|        false|        false|          false|          false|           false|         false|           true|             false|\n",
      "|                false|             false|           false|         false|        false|        false|          false|          false|           false|         false|           true|             false|\n",
      "|                false|             false|           false|         false|        false|        false|          false|          false|           false|         false|           true|             false|\n",
      "+---------------------+------------------+----------------+--------------+-------------+-------------+---------------+---------------+----------------+--------------+---------------+------------------+\n",
      "only showing top 10 rows\n",
      "\n"
     ]
    }
   ],
   "source": [
    "titanic_sdf.select(null_columns).show(10)"
   ]
  },
  {
   "cell_type": "code",
   "execution_count": 30,
   "id": "e62fcf82",
   "metadata": {},
   "outputs": [
    {
     "data": {
      "text/plain": [
       "PassengerId      0\n",
       "Survived         0\n",
       "Pclass           0\n",
       "Name             0\n",
       "Sex              0\n",
       "Age            177\n",
       "SibSp            0\n",
       "Parch            0\n",
       "Ticket           0\n",
       "Fare             0\n",
       "Cabin          687\n",
       "Embarked         2\n",
       "dtype: int64"
      ]
     },
     "execution_count": 30,
     "metadata": {},
     "output_type": "execute_result"
    }
   ],
   "source": [
    "# pandas에서 누락값 개수 확인하기\n",
    "titanic_pdf.isna().sum()"
   ]
  },
  {
   "cell_type": "code",
   "execution_count": 34,
   "id": "b1c0813f",
   "metadata": {},
   "outputs": [
    {
     "data": {
      "text/plain": [
       "[Column<'count(CASE WHEN (PassengerId IS NULL) THEN PassengerId END) AS PassengerId'>,\n",
       " Column<'count(CASE WHEN (Survived IS NULL) THEN Survived END) AS Survived'>,\n",
       " Column<'count(CASE WHEN (Pclass IS NULL) THEN Pclass END) AS Pclass'>,\n",
       " Column<'count(CASE WHEN (Name IS NULL) THEN Name END) AS Name'>,\n",
       " Column<'count(CASE WHEN (Sex IS NULL) THEN Sex END) AS Sex'>,\n",
       " Column<'count(CASE WHEN (Age IS NULL) THEN Age END) AS Age'>,\n",
       " Column<'count(CASE WHEN (SibSp IS NULL) THEN SibSp END) AS SibSp'>,\n",
       " Column<'count(CASE WHEN (Parch IS NULL) THEN Parch END) AS Parch'>,\n",
       " Column<'count(CASE WHEN (Ticket IS NULL) THEN Ticket END) AS Ticket'>,\n",
       " Column<'count(CASE WHEN (Fare IS NULL) THEN Fare END) AS Fare'>,\n",
       " Column<'count(CASE WHEN (Cabin IS NULL) THEN Cabin END) AS Cabin'>,\n",
       " Column<'count(CASE WHEN (Embarked IS NULL) THEN Embarked END) AS Embarked'>]"
      ]
     },
     "execution_count": 34,
     "metadata": {},
     "output_type": "execute_result"
    }
   ],
   "source": [
    "null_count_condition = [ F.count(F.when(F.col(c).isNull(), c)).alias(c) for c in titanic_sdf.columns]\n",
    "null_count_condition"
   ]
  },
  {
   "cell_type": "code",
   "execution_count": 35,
   "id": "ddbe440a",
   "metadata": {},
   "outputs": [
    {
     "name": "stdout",
     "output_type": "stream",
     "text": [
      "+-----------+--------+------+----+---+---+-----+-----+------+----+-----+--------+\n",
      "|PassengerId|Survived|Pclass|Name|Sex|Age|SibSp|Parch|Ticket|Fare|Cabin|Embarked|\n",
      "+-----------+--------+------+----+---+---+-----+-----+------+----+-----+--------+\n",
      "|          0|       0|     0|   0|  0|177|    0|    0|     0|   0|  687|       2|\n",
      "+-----------+--------+------+----+---+---+-----+-----+------+----+-----+--------+\n",
      "\n"
     ]
    }
   ],
   "source": [
    "titanic_sdf.select(null_count_condition).show()"
   ]
  },
  {
   "cell_type": "markdown",
   "id": "c50222e1",
   "metadata": {},
   "source": [
    "## null 값 처리하기"
   ]
  },
  {
   "cell_type": "code",
   "execution_count": 36,
   "id": "c448e69e",
   "metadata": {},
   "outputs": [
    {
     "name": "stdout",
     "output_type": "stream",
     "text": [
      "<class 'pandas.core.frame.DataFrame'>\n",
      "RangeIndex: 891 entries, 0 to 890\n",
      "Data columns (total 12 columns):\n",
      " #   Column       Non-Null Count  Dtype  \n",
      "---  ------       --------------  -----  \n",
      " 0   PassengerId  891 non-null    int32  \n",
      " 1   Survived     891 non-null    int32  \n",
      " 2   Pclass       891 non-null    int32  \n",
      " 3   Name         891 non-null    object \n",
      " 4   Sex          891 non-null    object \n",
      " 5   Age          891 non-null    float64\n",
      " 6   SibSp        891 non-null    int32  \n",
      " 7   Parch        891 non-null    int32  \n",
      " 8   Ticket       891 non-null    object \n",
      " 9   Fare         891 non-null    float64\n",
      " 10  Cabin        204 non-null    object \n",
      " 11  Embarked     889 non-null    object \n",
      "dtypes: float64(2), int32(5), object(5)\n",
      "memory usage: 66.3+ KB\n"
     ]
    }
   ],
   "source": [
    "# pandas 데이터 프레임에서 age 컬럼의 null 값을 age의 평균으로 채우기\n",
    "titanic_pdf[\"Age\"] = titanic_pdf['Age'].fillna(titanic_pdf[\"Age\"].mean())\n",
    "titanic_pdf.info()"
   ]
  },
  {
   "cell_type": "code",
   "execution_count": 37,
   "id": "dc7b8a33",
   "metadata": {},
   "outputs": [
    {
     "data": {
      "text/plain": [
       "29.69911764705882"
      ]
     },
     "execution_count": 37,
     "metadata": {},
     "output_type": "execute_result"
    }
   ],
   "source": [
    "# 스칼라 값으로 NaN의 값을 채웠음.\n",
    "titanic_pdf[\"Age\"].mean()"
   ]
  },
  {
   "cell_type": "code",
   "execution_count": 39,
   "id": "f60decb2",
   "metadata": {},
   "outputs": [
    {
     "name": "stdout",
     "output_type": "stream",
     "text": [
      "+-----+-----+\n",
      "|  Age|Cabin|\n",
      "+-----+-----+\n",
      "| 22.0| null|\n",
      "| 38.0|  C85|\n",
      "| 26.0| null|\n",
      "| 35.0| C123|\n",
      "| 35.0| null|\n",
      "|999.0| null|\n",
      "| 54.0|  E46|\n",
      "|  2.0| null|\n",
      "| 27.0| null|\n",
      "| 14.0| null|\n",
      "+-----+-----+\n",
      "only showing top 10 rows\n",
      "\n",
      "+----+-----+\n",
      "| Age|Cabin|\n",
      "+----+-----+\n",
      "|22.0|   NA|\n",
      "|38.0|  C85|\n",
      "|26.0|   NA|\n",
      "|35.0| C123|\n",
      "|35.0|   NA|\n",
      "|null|   NA|\n",
      "|54.0|  E46|\n",
      "| 2.0|   NA|\n",
      "|27.0|   NA|\n",
      "|14.0|   NA|\n",
      "+----+-----+\n",
      "only showing top 10 rows\n",
      "\n"
     ]
    }
   ],
   "source": [
    "# 스파크 데이터프레임에서 결측치 채우기\n",
    "titanic_sdf.fillna(value=999).select(\"Age\", \"Cabin\").show(10)\n",
    "titanic_sdf.fillna(value='NA').select(\"Age\", \"Cabin\").show(10)"
   ]
  },
  {
   "cell_type": "code",
   "execution_count": 40,
   "id": "65384581",
   "metadata": {},
   "outputs": [
    {
     "name": "stdout",
     "output_type": "stream",
     "text": [
      "+-----------------+\n",
      "|         avg(Age)|\n",
      "+-----------------+\n",
      "|29.69911764705882|\n",
      "+-----------------+\n",
      "\n"
     ]
    }
   ],
   "source": [
    "# Age에 대한 결측치를 Age의 평균으로 처리\n",
    "\n",
    "mean_age = titanic_sdf.select(F.avg(F.col(\"Age\")))\n",
    "mean_age.show()"
   ]
  },
  {
   "cell_type": "code",
   "execution_count": 41,
   "id": "88248d34",
   "metadata": {},
   "outputs": [
    {
     "data": {
      "text/plain": [
       "pyspark.sql.dataframe.DataFrame"
      ]
     },
     "execution_count": 41,
     "metadata": {},
     "output_type": "execute_result"
    }
   ],
   "source": [
    "type(mean_age)"
   ]
  },
  {
   "cell_type": "code",
   "execution_count": 42,
   "id": "4d749940",
   "metadata": {},
   "outputs": [
    {
     "ename": "TypeError",
     "evalue": "value should be a float, int, string, bool or dict",
     "output_type": "error",
     "traceback": [
      "\u001b[0;31m---------------------------------------------------------------------------\u001b[0m",
      "\u001b[0;31mTypeError\u001b[0m                                 Traceback (most recent call last)",
      "Cell \u001b[0;32mIn[42], line 1\u001b[0m\n\u001b[0;32m----> 1\u001b[0m \u001b[43mtitanic_sdf\u001b[49m\u001b[38;5;241;43m.\u001b[39;49m\u001b[43mfillna\u001b[49m\u001b[43m(\u001b[49m\u001b[43mvalue\u001b[49m\u001b[38;5;241;43m=\u001b[39;49m\u001b[43mmean_age\u001b[49m\u001b[43m,\u001b[49m\u001b[43m \u001b[49m\u001b[43msubset\u001b[49m\u001b[38;5;241;43m=\u001b[39;49m\u001b[43m[\u001b[49m\u001b[38;5;124;43m\"\u001b[39;49m\u001b[38;5;124;43mAge\u001b[39;49m\u001b[38;5;124;43m\"\u001b[39;49m\u001b[43m]\u001b[49m\u001b[43m)\u001b[49m\n",
      "File \u001b[0;32m~/miniconda3/envs/spark-env/lib/python3.8/site-packages/pyspark/sql/dataframe.py:2088\u001b[0m, in \u001b[0;36mDataFrame.fillna\u001b[0;34m(self, value, subset)\u001b[0m\n\u001b[1;32m   2038\u001b[0m \u001b[38;5;250m\u001b[39m\u001b[38;5;124;03m\"\"\"Replace null values, alias for ``na.fill()``.\u001b[39;00m\n\u001b[1;32m   2039\u001b[0m \u001b[38;5;124;03m:func:`DataFrame.fillna` and :func:`DataFrameNaFunctions.fill` are aliases of each other.\u001b[39;00m\n\u001b[1;32m   2040\u001b[0m \n\u001b[0;32m   (...)\u001b[0m\n\u001b[1;32m   2085\u001b[0m \u001b[38;5;124;03m+---+------+-------+\u001b[39;00m\n\u001b[1;32m   2086\u001b[0m \u001b[38;5;124;03m\"\"\"\u001b[39;00m\n\u001b[1;32m   2087\u001b[0m \u001b[38;5;28;01mif\u001b[39;00m \u001b[38;5;129;01mnot\u001b[39;00m \u001b[38;5;28misinstance\u001b[39m(value, (\u001b[38;5;28mfloat\u001b[39m, \u001b[38;5;28mint\u001b[39m, \u001b[38;5;28mstr\u001b[39m, \u001b[38;5;28mbool\u001b[39m, \u001b[38;5;28mdict\u001b[39m)):\n\u001b[0;32m-> 2088\u001b[0m     \u001b[38;5;28;01mraise\u001b[39;00m \u001b[38;5;167;01mTypeError\u001b[39;00m(\u001b[38;5;124m\"\u001b[39m\u001b[38;5;124mvalue should be a float, int, string, bool or dict\u001b[39m\u001b[38;5;124m\"\u001b[39m)\n\u001b[1;32m   2090\u001b[0m \u001b[38;5;66;03m# Note that bool validates isinstance(int), but we don't want to\u001b[39;00m\n\u001b[1;32m   2091\u001b[0m \u001b[38;5;66;03m# convert bools to floats\u001b[39;00m\n\u001b[1;32m   2093\u001b[0m \u001b[38;5;28;01mif\u001b[39;00m \u001b[38;5;129;01mnot\u001b[39;00m \u001b[38;5;28misinstance\u001b[39m(value, \u001b[38;5;28mbool\u001b[39m) \u001b[38;5;129;01mand\u001b[39;00m \u001b[38;5;28misinstance\u001b[39m(value, \u001b[38;5;28mint\u001b[39m):\n",
      "\u001b[0;31mTypeError\u001b[0m: value should be a float, int, string, bool or dict"
     ]
    }
   ],
   "source": [
    "titanic_sdf.fillna(value=mean_age, subset=[\"Age\"])"
   ]
  },
  {
   "cell_type": "code",
   "execution_count": 43,
   "id": "780ff72e",
   "metadata": {},
   "outputs": [
    {
     "data": {
      "text/plain": [
       "[Row(avg(Age)=29.69911764705882)]"
      ]
     },
     "execution_count": 43,
     "metadata": {},
     "output_type": "execute_result"
    }
   ],
   "source": [
    "# 데이터 프레임을 RDD 조회 결과로 확인\n",
    "mean_avg_row = mean_age.collect()\n",
    "mean_avg_row"
   ]
  },
  {
   "cell_type": "code",
   "execution_count": 46,
   "id": "1e96c54b",
   "metadata": {},
   "outputs": [
    {
     "data": {
      "text/plain": [
       "29.69911764705882"
      ]
     },
     "execution_count": 46,
     "metadata": {},
     "output_type": "execute_result"
    }
   ],
   "source": [
    "row = mean_avg_row[0] # 첫 번째 로우 가져오기\n",
    "mean_age_value = row[0] # 첫 번째 컬럼 가져오기\n",
    "mean_age_value"
   ]
  },
  {
   "cell_type": "code",
   "execution_count": 47,
   "id": "8454ebb6",
   "metadata": {},
   "outputs": [
    {
     "name": "stdout",
     "output_type": "stream",
     "text": [
      "+-----------------+\n",
      "|              Age|\n",
      "+-----------------+\n",
      "|             22.0|\n",
      "|             38.0|\n",
      "|             26.0|\n",
      "|             35.0|\n",
      "|             35.0|\n",
      "|29.69911764705882|\n",
      "|             54.0|\n",
      "|              2.0|\n",
      "|             27.0|\n",
      "|             14.0|\n",
      "|              4.0|\n",
      "|             58.0|\n",
      "|             20.0|\n",
      "|             39.0|\n",
      "|             14.0|\n",
      "|             55.0|\n",
      "|              2.0|\n",
      "|29.69911764705882|\n",
      "|             31.0|\n",
      "|29.69911764705882|\n",
      "+-----------------+\n",
      "only showing top 20 rows\n",
      "\n"
     ]
    }
   ],
   "source": [
    "titanic_sdf.fillna(value=mean_age_value, subset=[\"Age\"]).select(\"Age\").show()"
   ]
  },
  {
   "cell_type": "code",
   "execution_count": 48,
   "id": "4b6ef0a1",
   "metadata": {},
   "outputs": [],
   "source": [
    "spark.stop()"
   ]
  },
  {
   "cell_type": "code",
   "execution_count": null,
   "id": "0767a677",
   "metadata": {},
   "outputs": [],
   "source": []
  },
  {
   "cell_type": "code",
   "execution_count": null,
   "id": "e4c5ebc8",
   "metadata": {},
   "outputs": [],
   "source": []
  }
 ],
 "metadata": {
  "kernelspec": {
   "display_name": "Python 3 (ipykernel)",
   "language": "python",
   "name": "python3"
  },
  "language_info": {
   "codemirror_mode": {
    "name": "ipython",
    "version": 3
   },
   "file_extension": ".py",
   "mimetype": "text/x-python",
   "name": "python",
   "nbconvert_exporter": "python",
   "pygments_lexer": "ipython3",
   "version": "3.8.18"
  }
 },
 "nbformat": 4,
 "nbformat_minor": 5
}
