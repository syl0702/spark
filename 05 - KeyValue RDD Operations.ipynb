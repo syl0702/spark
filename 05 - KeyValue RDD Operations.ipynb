{
 "cells": [
  {
   "cell_type": "code",
   "execution_count": 1,
   "id": "9520e4e5",
   "metadata": {},
   "outputs": [
    {
     "name": "stderr",
     "output_type": "stream",
     "text": [
      "Using Spark's default log4j profile: org/apache/spark/log4j-defaults.properties\n",
      "Setting default log level to \"WARN\".\n",
      "To adjust logging level use sc.setLogLevel(newLevel). For SparkR, use setLogLevel(newLevel).\n",
      "23/11/15 13:40:42 WARN NativeCodeLoader: Unable to load native-hadoop library for your platform... using builtin-java classes where applicable\n"
     ]
    },
    {
     "data": {
      "text/html": [
       "\n",
       "        <div>\n",
       "            <p><b>SparkContext</b></p>\n",
       "\n",
       "            <p><a href=\"http://0.0.0.0:4040\">Spark UI</a></p>\n",
       "\n",
       "            <dl>\n",
       "              <dt>Version</dt>\n",
       "                <dd><code>v3.2.4</code></dd>\n",
       "              <dt>Master</dt>\n",
       "                <dd><code>local</code></dd>\n",
       "              <dt>AppName</dt>\n",
       "                <dd><code>Key_Value_RDD_OP</code></dd>\n",
       "            </dl>\n",
       "        </div>\n",
       "        "
      ],
      "text/plain": [
       "<SparkContext master=local appName=Key_Value_RDD_OP>"
      ]
     },
     "execution_count": 1,
     "metadata": {},
     "output_type": "execute_result"
    }
   ],
   "source": [
    "from pyspark import SparkConf, SparkContext\n",
    "\n",
    "conf = SparkConf().setMaster(\"local\").setAppName(\"Key_Value_RDD_OP\")\n",
    "sc = SparkContext(conf=conf)\n",
    "sc"
   ]
  },
  {
   "cell_type": "markdown",
   "id": "07aec8f5",
   "metadata": {},
   "source": [
    "# groupByKey\n",
    "- `k_v_RDD.groupByKey(numPartitions=None, partitionFunc=<function portable_hash>`\n",
    "- 주어지는 key를 기준으로 Group을 만들어 줍니다.\n",
    "- Transformations 함수 입니다."
   ]
  },
  {
   "cell_type": "code",
   "execution_count": 2,
   "id": "74269631",
   "metadata": {},
   "outputs": [
    {
     "data": {
      "text/plain": [
       "ParallelCollectionRDD[0] at readRDDFromFile at PythonRDD.scala:274"
      ]
     },
     "execution_count": 2,
     "metadata": {},
     "output_type": "execute_result"
    }
   ],
   "source": [
    "rdd = sc.parallelize([\n",
    "    (\"짜장면\", 15),\n",
    "    (\"짬뽕\", 10),\n",
    "    (\"짜장면\", 5)\n",
    "])\n",
    "\n",
    "rdd"
   ]
  },
  {
   "cell_type": "code",
   "execution_count": 3,
   "id": "0ff44ca1",
   "metadata": {},
   "outputs": [
    {
     "data": {
      "text/plain": [
       "PythonRDD[5] at RDD at PythonRDD.scala:53"
      ]
     },
     "execution_count": 3,
     "metadata": {},
     "output_type": "execute_result"
    }
   ],
   "source": [
    "rdd.groupByKey()"
   ]
  },
  {
   "cell_type": "code",
   "execution_count": 4,
   "id": "600205a3",
   "metadata": {},
   "outputs": [
    {
     "name": "stderr",
     "output_type": "stream",
     "text": [
      "                                                                                \r"
     ]
    },
    {
     "data": {
      "text/plain": [
       "[('짜장면', 2), ('짬뽕', 1)]"
      ]
     },
     "execution_count": 4,
     "metadata": {},
     "output_type": "execute_result"
    }
   ],
   "source": [
    "# 각 그룹 별로 몇 개의 원소가 있는지 확인\n",
    "rdd.groupByKey().mapValues(len).collect()"
   ]
  },
  {
   "cell_type": "code",
   "execution_count": 5,
   "id": "de616e1f",
   "metadata": {},
   "outputs": [
    {
     "data": {
      "text/plain": [
       "[('짜장면', [15, 5]), ('짬뽕', [10])]"
      ]
     },
     "execution_count": 5,
     "metadata": {},
     "output_type": "execute_result"
    }
   ],
   "source": [
    "rdd.groupByKey().mapValues(list).collect()"
   ]
  },
  {
   "cell_type": "markdown",
   "id": "d2365788",
   "metadata": {},
   "source": [
    "# reduceByKey\n",
    "- `KeyValueRDD.reduceByKey(<task>, numPartitions=None, partitionFunc=<function portable_hash>)`\n",
    "- 주어지는 `key`를 기준으로 `Group`을 만들고 합쳐(`task`대로)줍니다.\n",
    "- Transformations 함수 입니다."
   ]
  },
  {
   "cell_type": "code",
   "execution_count": 6,
   "id": "38afd3f1",
   "metadata": {},
   "outputs": [
    {
     "data": {
      "text/plain": [
       "[('짜장면', 20), ('짬뽕', 10)]"
      ]
     },
     "execution_count": 6,
     "metadata": {},
     "output_type": "execute_result"
    }
   ],
   "source": [
    "rdd.reduceByKey(lambda x, y : x + y).collect()"
   ]
  },
  {
   "cell_type": "markdown",
   "id": "57c8f3c5",
   "metadata": {},
   "source": [
    "# mapValues\n",
    "- `KeyValueRDD.mapValues(<task>)`\n",
    "- 함수를 `Value`에만 적용합니다.\n",
    "    - 파티션과 키는 그 위치에 그대로 있습니다.\n",
    "- `Transformations`"
   ]
  },
  {
   "cell_type": "code",
   "execution_count": 7,
   "id": "e3bc7619",
   "metadata": {},
   "outputs": [],
   "source": [
    "rdd = sc.parallelize([\n",
    "    (\"하의\", [\"청바지\", \"반바지\", \"치마\"]),\n",
    "    (\"상의\", [\"니트\", \"반팔\", \"긴팔\", \"나시\"])\n",
    "])"
   ]
  },
  {
   "cell_type": "code",
   "execution_count": 8,
   "id": "c4f79821",
   "metadata": {},
   "outputs": [
    {
     "data": {
      "text/plain": [
       "[('하의', 3), ('상의', 4)]"
      ]
     },
     "execution_count": 8,
     "metadata": {},
     "output_type": "execute_result"
    }
   ],
   "source": [
    "rdd.mapValues(len).collect()"
   ]
  },
  {
   "cell_type": "markdown",
   "id": "fe7bede9",
   "metadata": {},
   "source": [
    "# countByKey\n",
    "- `KeyValueRDD.countByKey(<task>)`\n",
    "- 각 키가 가진 요소들의 개수를 센다.\n",
    "- `Action`"
   ]
  },
  {
   "cell_type": "code",
   "execution_count": 9,
   "id": "a6909bf4",
   "metadata": {},
   "outputs": [
    {
     "data": {
      "text/plain": [
       "defaultdict(int, {'하의': 1, '상의': 1})"
      ]
     },
     "execution_count": 9,
     "metadata": {},
     "output_type": "execute_result"
    }
   ],
   "source": [
    "rdd.countByKey()"
   ]
  },
  {
   "cell_type": "markdown",
   "id": "bd14a759",
   "metadata": {},
   "source": [
    "# Join\n",
    "- `Inner Join`: 서로 간에 존재하는 키만 합쳐준다.\n",
    "- `Outer Join`: 기준이 되는 한 쪽에는 데이터가 있고, 다른 쪽에는 데이터가 없는 경우\n",
    "    - 설정한 기준에 따라서 기준에 맞는 데이터가 항상 남아있는다.\n",
    "    - `leftOuterJoin`: 왼쪽에 있는 rdd가 기준이 된다. (함수를 호출하는 쪽)\n",
    "    - `rightOuterJoin`: 오른쪽에 있는 rdd가 기준이 된다. (함수에 매개변수로 들어가는 쪽)"
   ]
  },
  {
   "cell_type": "code",
   "execution_count": 10,
   "id": "342e2681",
   "metadata": {},
   "outputs": [],
   "source": [
    "rdd1 = sc.parallelize([\n",
    "    (\"foo\", 1),\n",
    "    (\"goo\", 2),\n",
    "    (\"hoo\", 3)\n",
    "])\n",
    "\n",
    "rdd2 = sc.parallelize([\n",
    "    (\"foo\", 1),\n",
    "    (\"goo\", 2),\n",
    "    (\"goo\", 10),\n",
    "    (\"moo\", 6)\n",
    "])"
   ]
  },
  {
   "cell_type": "code",
   "execution_count": 11,
   "id": "b58e5c0b",
   "metadata": {},
   "outputs": [
    {
     "data": {
      "text/plain": [
       "[('foo', (1, 1)), ('goo', (2, 2)), ('goo', (2, 10))]"
      ]
     },
     "execution_count": 11,
     "metadata": {},
     "output_type": "execute_result"
    }
   ],
   "source": [
    "# Inner Join\n",
    "rdd1.join(rdd2).collect()"
   ]
  },
  {
   "cell_type": "code",
   "execution_count": 12,
   "id": "16382099",
   "metadata": {},
   "outputs": [
    {
     "data": {
      "text/plain": [
       "[('foo', (1, 1)), ('goo', (2, 2)), ('goo', (2, 10)), ('hoo', (3, None))]"
      ]
     },
     "execution_count": 12,
     "metadata": {},
     "output_type": "execute_result"
    }
   ],
   "source": [
    "# Left Outer Join: join을 호출하는 족이 Left, 매개변수로 들어가는 쪽이 Right\n",
    "rdd1.leftOuterJoin(rdd2).collect()"
   ]
  },
  {
   "cell_type": "code",
   "execution_count": 13,
   "id": "2019f9bd",
   "metadata": {},
   "outputs": [
    {
     "data": {
      "text/plain": [
       "[('foo', (1, 1)), ('moo', (None, 6)), ('goo', (2, 2)), ('goo', (2, 10))]"
      ]
     },
     "execution_count": 13,
     "metadata": {},
     "output_type": "execute_result"
    }
   ],
   "source": [
    "rdd1.rightOuterJoin(rdd2).collect()"
   ]
  },
  {
   "cell_type": "code",
   "execution_count": 14,
   "id": "608295aa",
   "metadata": {},
   "outputs": [],
   "source": [
    "sc.stop()"
   ]
  },
  {
   "cell_type": "code",
   "execution_count": null,
   "id": "43539456",
   "metadata": {},
   "outputs": [],
   "source": []
  }
 ],
 "metadata": {
  "kernelspec": {
   "display_name": "Python 3 (ipykernel)",
   "language": "python",
   "name": "python3"
  },
  "language_info": {
   "codemirror_mode": {
    "name": "ipython",
    "version": 3
   },
   "file_extension": ".py",
   "mimetype": "text/x-python",
   "name": "python",
   "nbconvert_exporter": "python",
   "pygments_lexer": "ipython3",
   "version": "3.8.18"
  }
 },
 "nbformat": 4,
 "nbformat_minor": 5
}
